{
 "cells": [
  {
   "cell_type": "markdown",
   "metadata": {
    "application/vnd.databricks.v1+cell": {
     "cellMetadata": {
      "byteLimit": 2048000,
      "rowLimit": 10000
     },
     "inputWidgets": {},
     "nuid": "bd53e6bc-9cff-4ff7-9c8e-59e59dfd166e",
     "showTitle": false,
     "tableResultSettingsMap": {},
     "title": ""
    }
   },
   "source": [
    "## 罫線の関数化"
   ]
  },
  {
   "cell_type": "code",
   "execution_count": 0,
   "metadata": {
    "application/vnd.databricks.v1+cell": {
     "cellMetadata": {
      "byteLimit": 2048000,
      "rowLimit": 10000
     },
     "inputWidgets": {},
     "nuid": "85caf3f4-f1ef-464e-9b84-ecfeeda182a0",
     "showTitle": false,
     "tableResultSettingsMap": {},
     "title": ""
    }
   },
   "outputs": [],
   "source": [
    "%pip install openpyxl\n",
    "from pyspark.sql import SparkSession\n",
    "from pyspark.sql import functions as F\n",
    "from openpyxl import Workbook, load_workbook\n",
    "from openpyxl.styles import Font, Alignment\n",
    "from openpyxl.styles import PatternFill, Border, Side, Font\n",
    "import pandas as pd\n",
    "import os\n",
    "from datetime import datetime, timedelta, date\n",
    "from openpyxl.cell.cell import Cell\n",
    "from openpyxl.worksheet.worksheet import Worksheet \n",
    "import pytz\n",
    "import re\n",
    "import math\n",
    "from decimal import Decimal, InvalidOperation\n",
    "from pyspark.sql.types import StructType, StructField, DecimalType\n",
    "from openpyxl.worksheet.pagebreak import Break\n",
    "from openpyxl.worksheet.page import PageMargins\n",
    "from pyspark.sql.functions import to_date, lit, date_sub, add_months, trunc, last_day"
   ]
  },
  {
   "cell_type": "markdown",
   "metadata": {
    "application/vnd.databricks.v1+cell": {
     "cellMetadata": {
      "byteLimit": 2048000,
      "rowLimit": 10000
     },
     "inputWidgets": {},
     "nuid": "629d6dab-4375-4f53-8cc7-cd0d90b5ead1",
     "showTitle": false,
     "tableResultSettingsMap": {},
     "title": ""
    }
   },
   "source": [
    "## 罫線設定用関数定義"
   ]
  },
  {
   "cell_type": "code",
   "execution_count": 0,
   "metadata": {
    "application/vnd.databricks.v1+cell": {
     "cellMetadata": {
      "byteLimit": 2048000,
      "rowLimit": 10000
     },
     "inputWidgets": {},
     "nuid": "90c55c13-c7d6-4e44-9d76-2e4eabd2949b",
     "showTitle": false,
     "tableResultSettingsMap": {},
     "title": ""
    }
   },
   "outputs": [],
   "source": [
    "def set_outer_border(ws, min_col, min_row, max_col, max_row, style=\"thin\", color=\"000000\"):\n",
    "    # 罫線のスタイルを定義\n",
    "    border_style = Side(border_style=style, color=color)\n",
    "\n",
    "    # 上側の罫線を設定\n",
    "    for col in range(min_col, max_col + 1):\n",
    "        cell = ws.cell(row=min_row, column=col)\n",
    "        cell.border = Border(top=border_style, left=cell.border.left, right=cell.border.right, bottom=cell.border.bottom)\n",
    "\n",
    "    # 下側の罫線を設定\n",
    "    for col in range(min_col, max_col + 1):\n",
    "        cell = ws.cell(row=max_row, column=col)\n",
    "        cell.border = Border(top=cell.border.top, left=cell.border.left, right=cell.border.right, bottom=border_style)\n",
    "\n",
    "    # 左側の罫線を設定\n",
    "    for row in range(min_row, max_row + 1):\n",
    "        cell = ws.cell(row=row, column=min_col)\n",
    "        cell.border = Border(top=cell.border.top, left=border_style, right=cell.border.right, bottom=cell.border.bottom)\n",
    "\n",
    "    # 右側の罫線を設定\n",
    "    for row in range(min_row, max_row + 1):\n",
    "        cell = ws.cell(row=row, column=max_col)\n",
    "        cell.border = Border(top=cell.border.top, left=cell.border.left, right=border_style, bottom=cell.border.bottom)\n",
    "\n",
    "#ヘッダー1行分の罫線をセット用\n",
    "def set_inner_border(ws, start_row, start_col, end_col):\n",
    "    \"\"\"\n",
    "    指定範囲のセルに黒の細線（全辺）を適用する関数。\n",
    "    \n",
    "    Parameters:\n",
    "        ws (Worksheet): openpyxl のワークシート\n",
    "        start_row (int): 開始行\n",
    "        start_col (int): 開始列番号（1始まり）\n",
    "        end_col (int): 終了列番号（1始まり）\n",
    "    \"\"\"\n",
    "    thin_border = Border(\n",
    "        left=Side(style=\"thin\", color=\"000000\"),\n",
    "        right=Side(style=\"thin\", color=\"000000\"),\n",
    "        top=Side(style=\"thin\", color=\"000000\"),\n",
    "        bottom=Side(style=\"thin\", color=\"000000\")\n",
    "    )\n",
    "\n",
    "    for row in ws.iter_rows(\n",
    "        min_row=start_row,\n",
    "        max_row=start_row,\n",
    "        min_col=start_col,\n",
    "        max_col=end_col\n",
    "    ):\n",
    "        for cell in row:\n",
    "            cell.border = thin_border\n",
    "\n",
    "# 点線用\n",
    "def apply_dotted_vertical_borders(ws, min_row, max_row, min_col, max_col):\n",
    "    dotted = Side(border_style=\"dotted\", color=\"000000\")\n",
    "    solid = Side(border_style=\"thin\", color=\"000000\")\n",
    "\n",
    "    for row in range(min_row, max_row + 1):\n",
    "        for col in range(min_col, max_col + 1):\n",
    "            cell = ws.cell(row=row, column=col)\n",
    "\n",
    "            # 縦線の種類を判定\n",
    "            left_style = solid if col == min_col else dotted\n",
    "            right_style = solid if col == max_col else dotted\n",
    "\n",
    "            cell.border = Border(\n",
    "                left=left_style,\n",
    "                right=right_style,\n",
    "                top=solid,\n",
    "                bottom=solid\n",
    "            )"
   ]
  },
  {
   "cell_type": "code",
   "execution_count": 0,
   "metadata": {
    "application/vnd.databricks.v1+cell": {
     "cellMetadata": {
      "byteLimit": 2048000,
      "rowLimit": 10000
     },
     "inputWidgets": {},
     "nuid": "1bbdfff7-2f17-4d8e-bc70-4b112767b365",
     "showTitle": false,
     "tableResultSettingsMap": {},
     "title": ""
    }
   },
   "outputs": [],
   "source": [
    "#関数実行\n",
    "# Excel Workbookを作成\n",
    "workbook = Workbook()\n",
    "sheet = workbook.active\n",
    "sheet.title = \"no.1\"\n",
    "\n",
    "# シートのグリッド線を非表示\n",
    "sheet.sheet_view.showGridLines = False\n",
    "\n",
    "# 罫線設定  \n",
    "# 横ヘッダー　　　　　列開始、行開始、列終了、行終了\n",
    "set_outer_border(sheet, 3, 7, 9, 8)\n",
    "\n",
    "#                min_row, max_row, min_col, max_col\n",
    "apply_dotted_vertical_borders(sheet, 3, 6, 3, 15)  \n",
    "\n",
    "# Excelファイルを保存\n",
    "output_file = f\"/Workspace/Users/takahiro.koizumi@nsw.co.jp/report_test/report_border_2.xlsx\"\n",
    "workbook.save(output_file)\n",
    "print(f\"Data exported to {output_file} successfully.\")"
   ]
  }
 ],
 "metadata": {
  "application/vnd.databricks.v1+notebook": {
   "computePreferences": null,
   "dashboards": [],
   "environmentMetadata": {
    "base_environment": "",
    "environment_version": "2"
   },
   "inputWidgetPreferences": null,
   "language": "python",
   "notebookMetadata": {
    "pythonIndentUnit": 4
   },
   "notebookName": "【ブランチ】 excel_border_line",
   "widgets": {}
  },
  "language_info": {
   "name": "python"
  }
 },
 "nbformat": 4,
 "nbformat_minor": 0
}
